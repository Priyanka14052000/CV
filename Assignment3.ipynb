{
 "cells": [
  {
   "cell_type": "code",
   "execution_count": 2,
   "metadata": {},
   "outputs": [],
   "source": [
    "import cv2\n",
    "import glob\n",
    "import numpy as np\n",
    "import matplotlib.pyplot as plt\n",
    "from scipy.signal import fftconvolve,convolve2d\n",
    "import math"
   ]
  },
  {
   "cell_type": "code",
   "execution_count": 3,
   "metadata": {},
   "outputs": [
    {
     "name": "stdout",
     "output_type": "stream",
     "text": [
      "Read a new frame:  True\n",
      "Read a new frame:  True\n",
      "Read a new frame:  True\n",
      "Read a new frame:  True\n",
      "Read a new frame:  True\n",
      "Read a new frame:  True\n",
      "Read a new frame:  True\n",
      "Read a new frame:  True\n",
      "Read a new frame:  True\n",
      "Read a new frame:  True\n",
      "Read a new frame:  True\n",
      "Read a new frame:  True\n",
      "Read a new frame:  True\n"
     ]
    }
   ],
   "source": [
    "vidcap = cv2.VideoCapture('/Users/priyankashanker/Desktop/cv/WhatsApp Video 2022-11-28 at 7.01.19 PM.mp4')\n",
    "success,image = vidcap.read()\n",
    "count = 0\n",
    "while success:\n",
    "    success,image = vidcap.read()\n",
    "    if count%30==0 :\n",
    "      cv2.imwrite(\"data/frame%d.jpg\" % count, image)     # save frame as JPEG file      \n",
    "      print('Read a new frame: ', success)\n",
    "    count += 1"
   ]
  },
  {
   "cell_type": "code",
   "execution_count": 4,
   "metadata": {},
   "outputs": [
    {
     "name": "stdout",
     "output_type": "stream",
     "text": [
      "Requirement already satisfied: scipy in /Library/Frameworks/Python.framework/Versions/3.11/lib/python3.11/site-packages (1.9.3)\n",
      "Requirement already satisfied: numpy<1.26.0,>=1.18.5 in /Library/Frameworks/Python.framework/Versions/3.11/lib/python3.11/site-packages (from scipy) (1.23.5)\n",
      "\n",
      "\u001b[1m[\u001b[0m\u001b[34;49mnotice\u001b[0m\u001b[1;39;49m]\u001b[0m\u001b[39;49m A new release of pip available: \u001b[0m\u001b[31;49m22.3\u001b[0m\u001b[39;49m -> \u001b[0m\u001b[32;49m22.3.1\u001b[0m\n",
      "\u001b[1m[\u001b[0m\u001b[34;49mnotice\u001b[0m\u001b[1;39;49m]\u001b[0m\u001b[39;49m To update, run: \u001b[0m\u001b[32;49mpip3 install --upgrade pip\u001b[0m\n",
      "Note: you may need to restart the kernel to use updated packages.\n"
     ]
    }
   ],
   "source": [
    "pip install scipy"
   ]
  },
  {
   "cell_type": "code",
   "execution_count": 5,
   "metadata": {},
   "outputs": [],
   "source": [
    "def ssd(A,B):\n",
    "    squares = (A[:,:,:3] - B[:,:,:3]) ** 2\n",
    "    return math.sqrt(np.sum(squares))"
   ]
  },
  {
   "cell_type": "code",
   "execution_count": 6,
   "metadata": {},
   "outputs": [],
   "source": [
    "def norm_data(data):\n",
    "    mean_data=np.mean(data)\n",
    "    std_data=np.std(data, ddof=1)\n",
    "    return (data-mean_data)/(std_data)\n",
    "\n",
    "\n",
    "def ncc(data0, data1):\n",
    "    return (1.0/(data0.size-1)) * np.sum(norm_data(data0)*norm_data(data1))"
   ]
  },
  {
   "cell_type": "code",
   "execution_count": 7,
   "metadata": {},
   "outputs": [],
   "source": [
    "import cv2\n",
    "\n",
    "imdir = 'data/'\n",
    "ext = ['png', 'jpg', 'gif']    # Add image formats here\n",
    "\n",
    "files = []\n",
    "[files.extend(glob.glob(imdir + '*.' + e)) for e in ext]\n",
    "\n",
    "images = [cv2.imread(file) for file in files]"
   ]
  },
  {
   "cell_type": "code",
   "execution_count": 8,
   "metadata": {},
   "outputs": [
    {
     "ename": "IndexError",
     "evalue": "list index out of range",
     "output_type": "error",
     "traceback": [
      "\u001b[0;31m---------------------------------------------------------------------------\u001b[0m",
      "\u001b[0;31mIndexError\u001b[0m                                Traceback (most recent call last)",
      "Cell \u001b[0;32mIn[8], line 1\u001b[0m\n\u001b[0;32m----> 1\u001b[0m plt\u001b[39m.\u001b[39mimshow(cv2\u001b[39m.\u001b[39mcvtColor(images[\u001b[39m0\u001b[39;49m], cv2\u001b[39m.\u001b[39mCOLOR_BGR2RGB))\n",
      "\u001b[0;31mIndexError\u001b[0m: list index out of range"
     ]
    }
   ],
   "source": [
    "plt.imshow(cv2.cvtColor(images[0], cv2.COLOR_BGR2RGB))"
   ]
  }
 ],
 "metadata": {
  "kernelspec": {
   "display_name": "Python 3.11.0 64-bit",
   "language": "python",
   "name": "python3"
  },
  "language_info": {
   "codemirror_mode": {
    "name": "ipython",
    "version": 3
   },
   "file_extension": ".py",
   "mimetype": "text/x-python",
   "name": "python",
   "nbconvert_exporter": "python",
   "pygments_lexer": "ipython3",
   "version": "3.11.0"
  },
  "orig_nbformat": 4,
  "vscode": {
   "interpreter": {
    "hash": "aee8b7b246df8f9039afb4144a1f6fd8d2ca17a180786b69acc140d282b71a49"
   }
  }
 },
 "nbformat": 4,
 "nbformat_minor": 2
}
